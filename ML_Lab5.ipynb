{
  "nbformat": 4,
  "nbformat_minor": 0,
  "metadata": {
    "colab": {
      "name": "ML_Lab5.ipynb",
      "provenance": [],
      "authorship_tag": "ABX9TyNS1bs+G4GfAlGZLdSaqt/X",
      "include_colab_link": true
    },
    "kernelspec": {
      "name": "python3",
      "display_name": "Python 3"
    },
    "language_info": {
      "name": "python"
    }
  },
  "cells": [
    {
      "cell_type": "markdown",
      "metadata": {
        "id": "view-in-github",
        "colab_type": "text"
      },
      "source": [
        "<a href=\"https://colab.research.google.com/github/shreythapar/ML_Dataset/blob/main/ML_Lab5.ipynb\" target=\"_parent\"><img src=\"https://colab.research.google.com/assets/colab-badge.svg\" alt=\"Open In Colab\"/></a>"
      ]
    },
    {
      "cell_type": "code",
      "metadata": {
        "colab": {
          "base_uri": "https://localhost:8080/"
        },
        "id": "xKDjjCK2Nss0",
        "outputId": "6560b6c9-7e1f-4228-927f-a7f6e465a385"
      },
      "source": [
        "import io \n",
        "import pandas as pd\n",
        "\n",
        "df2 = pd.read_csv(\"https://raw.githubusercontent.com/shreythapar/ML_Dataset/main/diabetes2.csv\")\n",
        "df2.isnull().sum()"
      ],
      "execution_count": 15,
      "outputs": [
        {
          "output_type": "execute_result",
          "data": {
            "text/plain": [
              "Pregnancies                 0\n",
              "Glucose                     0\n",
              "BloodPressure               0\n",
              "SkinThickness               0\n",
              "Insulin                     0\n",
              "BMI                         0\n",
              "DiabetesPedigreeFunction    0\n",
              "Age                         0\n",
              "Outcome                     0\n",
              "dtype: int64"
            ]
          },
          "metadata": {},
          "execution_count": 15
        }
      ]
    },
    {
      "cell_type": "code",
      "metadata": {
        "colab": {
          "base_uri": "https://localhost:8080/"
        },
        "id": "lR80pbhXOD20",
        "outputId": "644bb597-3c0f-4414-f752-e18168140e7f"
      },
      "source": [
        "X = df2.iloc[:, [6,7]].values\n",
        "Y = df2.iloc[:,8].values\n",
        "print(X)\n",
        "print(Y)"
      ],
      "execution_count": 35,
      "outputs": [
        {
          "output_type": "stream",
          "text": [
            "[[ 0.627 50.   ]\n",
            " [ 0.351 31.   ]\n",
            " [ 0.672 32.   ]\n",
            " ...\n",
            " [ 0.245 30.   ]\n",
            " [ 0.349 47.   ]\n",
            " [ 0.315 23.   ]]\n",
            "[1 0 1 0 1 0 1 0 1 1 0 1 0 1 1 1 1 1 0 1 0 0 1 1 1 1 1 0 0 0 0 1 0 0 0 0 0\n",
            " 1 1 1 0 0 0 1 0 1 0 0 1 0 0 0 0 1 0 0 1 0 0 0 0 1 0 0 1 0 1 0 0 0 1 0 1 0\n",
            " 0 0 0 0 1 0 0 0 0 0 1 0 0 0 1 0 0 0 0 1 0 0 0 0 0 1 1 0 0 0 0 0 0 0 0 1 1\n",
            " 1 0 0 1 1 1 0 0 0 1 0 0 0 1 1 0 0 1 1 1 1 1 0 0 0 0 0 0 0 0 0 0 1 0 0 0 0\n",
            " 0 0 0 0 1 0 1 1 0 0 0 1 0 0 0 0 1 1 0 0 0 0 1 1 0 0 0 1 0 1 0 1 0 0 0 0 0\n",
            " 1 1 1 1 1 0 0 1 1 0 1 0 1 1 1 0 0 0 0 0 0 1 1 0 1 0 0 0 1 1 1 1 0 1 1 1 1\n",
            " 0 0 0 0 0 1 0 0 1 1 0 0 0 1 1 1 1 0 0 0 1 1 0 1 0 0 0 0 0 0 0 0 1 1 0 0 0\n",
            " 1 0 1 0 0 1 0 1 0 0 1 1 0 0 0 0 0 1 0 0 0 1 0 0 1 1 0 0 1 0 0 0 1 1 1 0 0\n",
            " 1 0 1 0 1 1 0 1 0 0 1 0 1 1 0 0 1 0 1 0 0 1 0 1 0 1 1 1 0 0 1 0 1 0 0 0 1\n",
            " 0 0 0 0 1 1 1 0 0 0 0 0 0 0 0 0 1 0 0 0 0 0 1 1 1 0 1 1 0 0 1 0 0 1 0 0 1\n",
            " 1 0 0 0 0 1 0 0 1 0 0 0 0 0 0 0 1 1 1 0 0 1 0 0 1 0 0 1 0 1 1 0 1 0 1 0 1\n",
            " 0 1 1 0 0 0 0 1 1 0 1 0 1 0 0 0 0 1 1 0 1 0 1 0 0 0 0 0 1 0 0 0 0 1 0 0 1\n",
            " 1 1 0 0 1 0 0 1 0 0 0 1 0 0 1 0 0 0 0 0 0 0 0 0 1 0 0 0 0 0 0 0 1 0 0 0 1\n",
            " 0 0 0 1 1 0 0 0 0 0 0 0 1 0 0 0 0 1 0 0 0 1 0 0 0 1 0 0 0 1 0 0 0 0 1 1 0\n",
            " 0 0 0 0 0 1 0 0 0 0 0 0 0 0 0 0 0 1 0 0 0 1 1 1 1 0 0 1 1 0 0 0 0 0 0 0 0\n",
            " 0 0 0 0 0 1 1 0 0 0 0 0 0 0 1 0 0 0 0 0 0 0 1 0 1 1 0 0 0 1 0 1 0 1 0 1 0\n",
            " 1 0 0 1 0 0 1 0 0 0 0 1 1 0 1 0 0 0 0 1 1 0 1 0 0 0 1 1 0 0 0 0 0 0 0 0 0\n",
            " 0 1 0 0 0 0 1 0 0 1 0 0 0 1 0 0 0 1 1 1 0 0 0 0 0 0 1 0 0 0 1 0 1 1 1 1 0\n",
            " 1 1 0 0 0 0 0 0 0 1 1 0 1 0 0 1 0 1 0 0 0 0 0 1 0 1 0 1 0 1 1 0 0 0 0 1 1\n",
            " 0 0 0 1 0 1 1 0 0 1 0 0 1 1 0 0 1 0 0 1 0 0 0 0 0 0 0 1 1 1 0 0 0 0 0 0 1\n",
            " 1 0 0 1 0 0 1 0 1 1 1 0 0 1 1 1 0 1 0 1 0 1 0 0 0 0 1 0]\n"
          ],
          "name": "stdout"
        }
      ]
    },
    {
      "cell_type": "code",
      "metadata": {
        "colab": {
          "base_uri": "https://localhost:8080/"
        },
        "id": "N_3Nkg91OFpy",
        "outputId": "bba87498-722d-4aa3-bffe-3cd2312ed45e"
      },
      "source": [
        "import numpy as np\n",
        "unique_labels = df2.iloc[:,4].unique()\n",
        "print(unique_labels)\n",
        "unique_labels=np.array(unique_labels)\n",
        "type(unique_labels)"
      ],
      "execution_count": 36,
      "outputs": [
        {
          "output_type": "stream",
          "text": [
            "[  0  94 168  88 543 846 175 230  83  96 235 146 115 140 110 245  54 192\n",
            " 207  70 240  82  36  23 300 342 304 142 128  38 100  90 270  71 125 176\n",
            "  48  64 228  76 220  40 152  18 135 495  37  51  99 145 225  49  50  92\n",
            " 325  63 284 119 204 155 485  53 114 105 285 156  78 130  55  58 160 210\n",
            " 318  44 190 280  87 271 129 120 478  56  32 744 370  45 194 680 402 258\n",
            " 375 150  67  57 116 278 122 545  75  74 182 360 215 184  42 132 148 180\n",
            " 205  85 231  29  68  52 255 171  73 108  43 167 249 293  66 465  89 158\n",
            "  84  72  59  81 196 415 275 165 579 310  61 474 170 277  60  14  95 237\n",
            " 191 328 250 480 265 193  79  86 326 188 106  65 166 274  77 126 330 600\n",
            " 185  25  41 272 321 144  15 183  91  46 440 159 540 200 335 387  22 291\n",
            " 392 178 127 510  16 112]\n"
          ],
          "name": "stdout"
        },
        {
          "output_type": "execute_result",
          "data": {
            "text/plain": [
              "numpy.ndarray"
            ]
          },
          "metadata": {},
          "execution_count": 36
        }
      ]
    },
    {
      "cell_type": "code",
      "metadata": {
        "colab": {
          "base_uri": "https://localhost:8080/",
          "height": 203
        },
        "id": "dfLRaJC2OLGb",
        "outputId": "5f96ba98-435e-45cc-e29e-37618665bf79"
      },
      "source": [
        "output=pd.DataFrame(Y)\n",
        "output.head()"
      ],
      "execution_count": 37,
      "outputs": [
        {
          "output_type": "execute_result",
          "data": {
            "text/html": [
              "<div>\n",
              "<style scoped>\n",
              "    .dataframe tbody tr th:only-of-type {\n",
              "        vertical-align: middle;\n",
              "    }\n",
              "\n",
              "    .dataframe tbody tr th {\n",
              "        vertical-align: top;\n",
              "    }\n",
              "\n",
              "    .dataframe thead th {\n",
              "        text-align: right;\n",
              "    }\n",
              "</style>\n",
              "<table border=\"1\" class=\"dataframe\">\n",
              "  <thead>\n",
              "    <tr style=\"text-align: right;\">\n",
              "      <th></th>\n",
              "      <th>0</th>\n",
              "    </tr>\n",
              "  </thead>\n",
              "  <tbody>\n",
              "    <tr>\n",
              "      <th>0</th>\n",
              "      <td>1</td>\n",
              "    </tr>\n",
              "    <tr>\n",
              "      <th>1</th>\n",
              "      <td>0</td>\n",
              "    </tr>\n",
              "    <tr>\n",
              "      <th>2</th>\n",
              "      <td>1</td>\n",
              "    </tr>\n",
              "    <tr>\n",
              "      <th>3</th>\n",
              "      <td>0</td>\n",
              "    </tr>\n",
              "    <tr>\n",
              "      <th>4</th>\n",
              "      <td>1</td>\n",
              "    </tr>\n",
              "  </tbody>\n",
              "</table>\n",
              "</div>"
            ],
            "text/plain": [
              "   0\n",
              "0  1\n",
              "1  0\n",
              "2  1\n",
              "3  0\n",
              "4  1"
            ]
          },
          "metadata": {},
          "execution_count": 37
        }
      ]
    },
    {
      "cell_type": "code",
      "metadata": {
        "id": "K9wI352TOOaK"
      },
      "source": [
        "from sklearn.model_selection import train_test_split\n",
        "X_Train, X_Test, Y_Train, Y_Test = train_test_split(X, Y, test_size = 0.25, random_state = 0)\n",
        "\n",
        "# Feature Scaling\n",
        "\n",
        "from sklearn.preprocessing import StandardScaler\n",
        "sc_X = StandardScaler()\n",
        "X_Train = sc_X.fit_transform(X_Train)\n",
        "X_Test = sc_X.transform(X_Test)"
      ],
      "execution_count": 38,
      "outputs": []
    },
    {
      "cell_type": "code",
      "metadata": {
        "colab": {
          "base_uri": "https://localhost:8080/"
        },
        "id": "g6t9GK8VTL5p",
        "outputId": "ce97a3a3-ff62-4ad5-ad2e-c8d0e70cbeda"
      },
      "source": [
        "X_Train.shape"
      ],
      "execution_count": 39,
      "outputs": [
        {
          "output_type": "execute_result",
          "data": {
            "text/plain": [
              "(576, 2)"
            ]
          },
          "metadata": {},
          "execution_count": 39
        }
      ]
    },
    {
      "cell_type": "code",
      "metadata": {
        "colab": {
          "base_uri": "https://localhost:8080/"
        },
        "id": "4HUMCDTRTOUx",
        "outputId": "d21b35de-e00b-4338-9e5a-f097210ebe64"
      },
      "source": [
        "Y_Train.shape"
      ],
      "execution_count": 40,
      "outputs": [
        {
          "output_type": "execute_result",
          "data": {
            "text/plain": [
              "(576,)"
            ]
          },
          "metadata": {},
          "execution_count": 40
        }
      ]
    },
    {
      "cell_type": "code",
      "metadata": {
        "colab": {
          "base_uri": "https://localhost:8080/"
        },
        "id": "F4O4U9GxTRqh",
        "outputId": "059ddad2-7015-4193-d055-26759c1e183d"
      },
      "source": [
        "X_Test.shape"
      ],
      "execution_count": 41,
      "outputs": [
        {
          "output_type": "execute_result",
          "data": {
            "text/plain": [
              "(192, 2)"
            ]
          },
          "metadata": {},
          "execution_count": 41
        }
      ]
    },
    {
      "cell_type": "code",
      "metadata": {
        "colab": {
          "base_uri": "https://localhost:8080/",
          "height": 282
        },
        "id": "ckdw1KagTTd7",
        "outputId": "9172a756-567c-421d-8ea9-0cb4c441eb9d"
      },
      "source": [
        "import matplotlib.pyplot as plt\n",
        "from sklearn.linear_model import LogisticRegression\n",
        "from sklearn.metrics import precision_recall_curve,roc_curve,auc\n",
        "classifier = LogisticRegression(random_state = 0)\n",
        "classifier.fit(X_Train, Y_Train)\n",
        "\n",
        "# Predicting the test set results\n",
        "\n",
        "Y_Pred = classifier.predict(X_Test)\n",
        "prob_score=classifier.predict_proba(X_Test)\n",
        "y_scores = classifier.decision_function(X_Test)\n",
        "precision, recall, thresholds = precision_recall_curve(Y_Test, y_scores)\n",
        "plt.figure()\n",
        "plt.plot(precision, recall, label = 'Precision-Recall Curve')"
      ],
      "execution_count": 42,
      "outputs": [
        {
          "output_type": "execute_result",
          "data": {
            "text/plain": [
              "[<matplotlib.lines.Line2D at 0x7f9ee6a5a190>]"
            ]
          },
          "metadata": {},
          "execution_count": 42
        },
        {
          "output_type": "display_data",
          "data": {
            "image/png": "[encoded data removed]",
            "text/plain": [
              "<Figure size 432x288 with 1 Axes>"
            ]
          },
          "metadata": {
            "needs_background": "light"
          }
        }
      ]
    },
    {
      "cell_type": "code",
      "metadata": {
        "colab": {
          "base_uri": "https://localhost:8080/"
        },
        "id": "-sE5_lgZX5Hy",
        "outputId": "78343844-a087-42ce-9796-93d943162543"
      },
      "source": [
        "Y_Pred[0:5]"
      ],
      "execution_count": 43,
      "outputs": [
        {
          "output_type": "execute_result",
          "data": {
            "text/plain": [
              "array([0, 0, 0, 1, 0])"
            ]
          },
          "metadata": {},
          "execution_count": 43
        }
      ]
    },
    {
      "cell_type": "code",
      "metadata": {
        "colab": {
          "base_uri": "https://localhost:8080/",
          "height": 362
        },
        "id": "ageoAOOnYCo1",
        "outputId": "83bd73b8-7439-45f2-9a61-1b102fb08866"
      },
      "source": [
        "# Making the Confusion Matrix \n",
        "\n",
        "from sklearn.metrics import confusion_matrix,precision_score,recall_score\n",
        "\n",
        "cm = confusion_matrix(Y_Test, Y_Pred)\n",
        "print(cm)\n",
        "r=cm.shape[0]\n",
        "c=cm.shape[1]\n",
        "plt.imshow(cm, interpolation='nearest', cmap=plt.cm.Blues)\n",
        "plt.title('Confusion matrix')\n",
        "plt.colorbar()\n",
        "tick_marks = np.arange(len(unique_labels))\n",
        "plt.xticks(tick_marks, unique_labels, rotation=45)\n",
        "plt.yticks(tick_marks, unique_labels)\n",
        "\n",
        "thresh = cm.max() / 2.\n",
        "for i in range(r):\n",
        "    for j in range(c):\n",
        "        plt.text(j, i, format(cm[i, j], '0.2f'),horizontalalignment=\"center\",color=\"white\" if cm[i, j] > thresh else \"black\")\n",
        "plt.tight_layout()\n",
        "plt.ylabel('True label')\n",
        "plt.xlabel('Predicted label')\n",
        "# Visualising the Training set results \n",
        "\n",
        "#from matplotlib.colors import ListedColormap\n",
        "#X_Set, Y_Set = X_Train, Y_Train\n",
        "#X1, X2 = np.meshgrid(np.arange(start = X_Set[:,0].min() -1, stop = X_Set[:, 0].max() +1, step = 0.01),\n",
        "#                     np.arange(start = X_Set[:,1].min() -1, stop = X_Set[:, 1].max() +1, step = 0.01))\n",
        "\n",
        "#plt.contourf(X1,X2, classifier.predict(np.array([X1.ravel(), X2.ravel()]).T).reshape(X1.shape),\n",
        " #            alpha = 0.75, cmap = ListedColormap(('red', 'green')))"
      ],
      "execution_count": 44,
      "outputs": [
        {
          "output_type": "stream",
          "text": [
            "[[116  14]\n",
            " [ 50  12]]\n"
          ],
          "name": "stdout"
        },
        {
          "output_type": "execute_result",
          "data": {
            "text/plain": [
              "Text(0.5, 4.405514997941804, 'Predicted label')"
            ]
          },
          "metadata": {},
          "execution_count": 44
        },
        {
          "output_type": "display_data",
          "data": {
            "image/png": "[encoded data removed]",
            "text/plain": [
              "<Figure size 432x288 with 2 Axes>"
            ]
          },
          "metadata": {
            "needs_background": "light"
          }
        }
      ]
    },
    {
      "cell_type": "code",
      "metadata": {
        "colab": {
          "base_uri": "https://localhost:8080/",
          "height": 282
        },
        "id": "Omjyfo4QYNfd",
        "outputId": "d728c179-5a17-40c6-feaa-5e3217d743f8"
      },
      "source": [
        "# Visualising the Training set results \n",
        "\n",
        "from matplotlib.colors import ListedColormap\n",
        "X_Set, Y_Set = X_Train, Y_Train\n",
        "X1, X2 = np.meshgrid(np.arange(start = X_Set[:,0].min() -1, stop = X_Set[:, 0].max() +1, step = 0.01),\n",
        "                    np.arange(start = X_Set[:,1].min() -1, stop = X_Set[:, 1].max() +1, step = 0.01))\n",
        "\n",
        "plt.contourf(X1,X2, classifier.predict(np.array([X1.ravel(), X2.ravel()]).T).reshape(X1.shape),\n",
        "            alpha = 0.75, cmap = ListedColormap(('red', 'green')))"
      ],
      "execution_count": 45,
      "outputs": [
        {
          "output_type": "execute_result",
          "data": {
            "text/plain": [
              "<matplotlib.contour.QuadContourSet at 0x7f9ede090950>"
            ]
          },
          "metadata": {},
          "execution_count": 45
        },
        {
          "output_type": "display_data",
          "data": {
            "image/png": "[encoded data removed]",
            "text/plain": [
              "<Figure size 432x288 with 1 Axes>"
            ]
          },
          "metadata": {
            "needs_background": "light"
          }
        }
      ]
    },
    {
      "cell_type": "code",
      "metadata": {
        "colab": {
          "base_uri": "https://localhost:8080/"
        },
        "id": "ENYrt-ylYSSx",
        "outputId": "468fbdce-06aa-43d4-c34d-26c9ec8d454b"
      },
      "source": [
        "from sklearn.metrics import classification_report\n",
        "print(classification_report(Y_Test, Y_Pred))"
      ],
      "execution_count": 46,
      "outputs": [
        {
          "output_type": "stream",
          "text": [
            "              precision    recall  f1-score   support\n",
            "\n",
            "           0       0.70      0.89      0.78       130\n",
            "           1       0.46      0.19      0.27        62\n",
            "\n",
            "    accuracy                           0.67       192\n",
            "   macro avg       0.58      0.54      0.53       192\n",
            "weighted avg       0.62      0.67      0.62       192\n",
            "\n"
          ],
          "name": "stdout"
        }
      ]
    },
    {
      "cell_type": "code",
      "metadata": {
        "colab": {
          "base_uri": "https://localhost:8080/"
        },
        "id": "Hx10GWjfYWHr",
        "outputId": "70a5d30b-ff72-4c51-a7d6-ab1aa028aff3"
      },
      "source": [
        "from sklearn.metrics import precision_score, recall_score\n",
        "print(\"Precision score: \",precision_score(Y_Test,Y_Pred))\n",
        "print(\"Recall score: \",recall_score(Y_Test,Y_Pred))"
      ],
      "execution_count": 47,
      "outputs": [
        {
          "output_type": "stream",
          "text": [
            "Precision score:  0.46153846153846156\n",
            "Recall score:  0.1935483870967742\n"
          ],
          "name": "stdout"
        }
      ]
    },
    {
      "cell_type": "code",
      "metadata": {
        "colab": {
          "base_uri": "https://localhost:8080/"
        },
        "id": "1pgvk3_zYYPG",
        "outputId": "de843a84-e34b-41dd-ffaa-a214fe73f725"
      },
      "source": [
        "from sklearn.metrics import roc_curve, auc, roc_auc_score\n",
        "fpr, tpr, thresholds = roc_curve(Y_Test, Y_Pred)\n",
        "auc = roc_auc_score(Y_Test, Y_Pred)\n",
        "print('AUC: %.3f' % auc)"
      ],
      "execution_count": 48,
      "outputs": [
        {
          "output_type": "stream",
          "text": [
            "AUC: 0.543\n"
          ],
          "name": "stdout"
        }
      ]
    },
    {
      "cell_type": "code",
      "metadata": {
        "colab": {
          "base_uri": "https://localhost:8080/",
          "height": 295
        },
        "id": "7E53RGYkYa6y",
        "outputId": "9ce80a8b-32b2-46f9-c130-56d9e5db0559"
      },
      "source": [
        "plt.figure()\n",
        "plt.plot(fpr, tpr, color='darkorange',marker='.',\n",
        "         lw=2, label='ROC curve (area = %0.2f)')\n",
        "plt.plot([0, 1], [0, 1], color='navy', lw=2, linestyle='--')\n",
        "plt.xlim([0.0, 1.0])\n",
        "plt.ylim([0.0, 1.05])\n",
        "plt.xlabel('False Positive Rate')\n",
        "plt.ylabel('True Positive Rate')\n",
        "plt.title('Receiver operating characteristic example')\n",
        "plt.legend(loc=\"lower right\")\n",
        "plt.show()"
      ],
      "execution_count": 49,
      "outputs": [
        {
          "output_type": "display_data",
          "data": {
            "image/png": "[encoded data removed]",
            "text/plain": [
              "<Figure size 432x288 with 1 Axes>"
            ]
          },
          "metadata": {
            "needs_background": "light"
          }
        }
      ]
    },
    {
      "cell_type": "code",
      "metadata": {
        "colab": {
          "base_uri": "https://localhost:8080/"
        },
        "id": "rROdv_uiYdpK",
        "outputId": "200ba924-80ef-4539-845b-00772f3bf67a"
      },
      "source": [
        "from sklearn.linear_model import LogisticRegressionCV\n",
        "clf = LogisticRegressionCV(cv=5, random_state=0).fit(X_Train, Y_Train)\n",
        "Y_Pred_cv=clf.predict(X_Test)\n",
        "prob_score_cv=clf.predict_proba(X_Test)\n",
        "#print(prob_score_cv)\n",
        "y_scores_cv = clf.decision_function(X_Test)\n",
        "print(y_scores_cv)"
      ],
      "execution_count": 50,
      "outputs": [
        {
          "output_type": "stream",
          "text": [
            "[-0.18291265 -1.1194653  -1.05039542  0.2079066  -0.53907291 -1.1979853\n",
            " -0.2271077   0.8087036   0.14334623  0.11203747 -0.47334218  0.73117099\n",
            "  0.60864262  0.24109678 -0.14783366 -0.37272282 -0.27605298 -1.3554023\n",
            "  0.53346179 -0.73899389 -0.39801766 -0.91601849 -0.6732165  -0.33651645\n",
            " -1.07846573 -1.09275939 -0.77990014  0.29606336 -1.17428819 -0.94338142\n",
            "  0.26714936 -1.11053222 -0.66832627 -0.50790046 -1.27500089 -0.64791797\n",
            " -0.48354264 -1.29122265 -1.15999452 -1.12792803 -0.80251653 -1.04832732\n",
            " -0.65906283 -1.19850232 -0.13377333 -1.03549139 -1.47388783 -1.09736594\n",
            " -0.50192952 -0.82531959 -0.74407079 -1.24533284 -0.17143743 -0.47705468\n",
            " -1.06026921 -1.42108636 -0.84417313 -1.10723973 -0.98320695 -0.97399018\n",
            " -0.53639077 -0.85155514 -1.39687224 -0.5152358  -0.93200323  0.31284881\n",
            " -0.15540234 -0.57137274 -0.36505712 -0.62760669 -1.44426645 -0.73866354\n",
            " -1.20146446  0.8251587  -0.92255312 -0.9828766  -0.25409361 -0.03470872\n",
            " -0.7548853  -1.01644749 -0.5526592  -1.08344929 -0.66536413 -1.30504596\n",
            " -1.03318628 -1.0386402  -1.16239297 -0.92814704  0.20691922 -1.25765175\n",
            " -1.13295826 -1.07413919 -0.81836127 -1.07451621 -0.07594163 -1.13474635\n",
            " -0.28978295 -1.0879625   1.20553677 -0.205195   -1.18966257 -0.97131173\n",
            " -1.04310674 -1.10667604 -0.39030898 -0.16589018 -1.09177202 -1.39146498\n",
            " -0.95128046 -0.48627145 -0.80298689 -0.7292601  -0.65384225  0.19549067\n",
            " -1.3045756  -0.37257913 -0.68943826 -0.83068018 -1.37717132  0.28054898\n",
            " -0.67105139  0.50280636 -1.16549511  0.33452818 -1.34750327 -1.24787129\n",
            " -0.72314916 -0.37526127  0.75712654 -1.2374338  -0.98969492 -1.17626295\n",
            " -1.15012073 -0.62046171 -0.05252822  0.08015764 -1.09393344 -0.85108479\n",
            " -0.60315923 -0.90529732 -1.27255577 -0.6112916  -1.41563244 -0.39514886\n",
            " -0.4855174  -1.05622636 -0.89401245 -0.47216445 -0.47813908 -0.57062238\n",
            " -1.01146393 -0.92245979 -1.37176406 -0.6667752   0.43444016 -1.12191042\n",
            " -1.09675558 -0.69587956 -0.72338249 -0.25146183 -0.21361105  0.08331013\n",
            " -1.24039594 -0.85136848 -0.74754995 -1.33819316 -0.6034859  -1.17969544\n",
            " -1.32831937 -0.3819359  -1.04832732 -0.16701756 -0.93994893 -0.45095912\n",
            "  0.31722571 -1.11894828  0.35291136 -0.87290046 -1.23804416 -1.41069555\n",
            " -0.80825045 -0.40459896 -0.85635204  0.43264838 -0.39223707 -0.40638705\n",
            " -1.12891541 -0.9092935  -1.01978666 -0.66522413  0.05674422 -0.69028195]\n"
          ],
          "name": "stdout"
        }
      ]
    },
    {
      "cell_type": "code",
      "metadata": {
        "colab": {
          "base_uri": "https://localhost:8080/"
        },
        "id": "mHQDhFi3YgM4",
        "outputId": "6b74aa86-c3eb-49ab-e50e-f82eebdab745"
      },
      "source": [
        "print(classification_report(Y_Test,Y_Pred_cv))"
      ],
      "execution_count": 51,
      "outputs": [
        {
          "output_type": "stream",
          "text": [
            "              precision    recall  f1-score   support\n",
            "\n",
            "           0       0.70      0.89      0.78       130\n",
            "           1       0.46      0.19      0.27        62\n",
            "\n",
            "    accuracy                           0.67       192\n",
            "   macro avg       0.58      0.54      0.53       192\n",
            "weighted avg       0.62      0.67      0.62       192\n",
            "\n"
          ],
          "name": "stdout"
        }
      ]
    }
  ]
}